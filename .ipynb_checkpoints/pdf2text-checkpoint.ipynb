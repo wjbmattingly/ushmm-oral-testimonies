{
 "cells": [
  {
   "cell_type": "code",
   "execution_count": 19,
   "id": "93cd4a88-451e-4413-849e-80dcddd0f647",
   "metadata": {},
   "outputs": [],
   "source": [
    "import PyPDF2\n",
    "import glob\n",
    "from pdf2image import convert_from_path\n",
    "import pytesseract"
   ]
  },
  {
   "cell_type": "code",
   "execution_count": 6,
   "id": "cb427647-ccb1-4111-b646-7537520180bc",
   "metadata": {},
   "outputs": [
    {
     "data": {
      "text/plain": [
       "1316"
      ]
     },
     "execution_count": 6,
     "metadata": {},
     "output_type": "execute_result"
    }
   ],
   "source": [
    "files = glob.glob(\"pdfs/*trs_en.pdf\")\n",
    "len(files)"
   ]
  },
  {
   "cell_type": "markdown",
   "id": "b98108f5-3fd6-4f49-93cc-1ac974121233",
   "metadata": {},
   "source": [
    "## Using Tesseract to get Better OCR"
   ]
  },
  {
   "cell_type": "code",
   "execution_count": null,
   "id": "965bc953-5000-47f2-b5ec-c14de93cc5b3",
   "metadata": {},
   "outputs": [],
   "source": [
    "for filename in files[:1]:\n",
    "    pages = convert_from_path(filename, 500)\n",
    "    text = \"\"\n",
    "    for page in pages:\n",
    "        res = pytesseract.image_to_string(page)\n",
    "        text = text+res+\"\\n\"\n",
    "    ocr_filename = filename.replace(\"pdfs\", \"new_ocr\").replace(\".pdf\", \".txt\")\n",
    "    with open (ocr_filename, \"w\", encoding=\"utf-8\") as f:\n",
    "        f.write(text)"
   ]
  },
  {
   "cell_type": "markdown",
   "id": "c9aa922b-1e92-4285-b411-64d1946eb33d",
   "metadata": {},
   "source": [
    "## Extracting Existing OCR from PDFs with Numerous Errors"
   ]
  },
  {
   "cell_type": "code",
   "execution_count": 17,
   "id": "93dbc02b-9129-4692-9224-8c8d9948c953",
   "metadata": {},
   "outputs": [],
   "source": [
    "for filename in files[:1]:\n",
    "    fhandle = open(filename, 'rb')\n",
    "    data = []\n",
    "    pdfReader = PyPDF2.PdfFileReader(fhandle)\n",
    "    for x in range(len(pdfReader.pages)):\n",
    "        text = pdfReader.getPage(x)\n",
    "        data.append(text.extractText())\n",
    "    text_filename = filename.replace(\"pdfs\", \"ocr\").replace(\".pdf\", \".txt\")\n",
    "    full_text = \"\\n\".join(data)\n",
    "    # with open (text_filename, \"w\", encoding=\"utf-8\") as f:\n",
    "    #     f.write(full_text)"
   ]
  },
  {
   "cell_type": "code",
   "execution_count": null,
   "id": "4d2e9065-f272-47ad-866e-2f260efccf77",
   "metadata": {},
   "outputs": [],
   "source": []
  }
 ],
 "metadata": {
  "kernelspec": {
   "display_name": "Python 3 (ipykernel)",
   "language": "python",
   "name": "python3"
  },
  "language_info": {
   "codemirror_mode": {
    "name": "ipython",
    "version": 3
   },
   "file_extension": ".py",
   "mimetype": "text/x-python",
   "name": "python",
   "nbconvert_exporter": "python",
   "pygments_lexer": "ipython3",
   "version": "3.8.5"
  }
 },
 "nbformat": 4,
 "nbformat_minor": 5
}
